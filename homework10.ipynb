{
 "cells": [
  {
   "cell_type": "markdown",
   "metadata": {},
   "source": [
    "#### 1.Write a function angle_between(v1, v2) where v1 and v2 are two vectors that are passed in, and the angle between them is calculated."
   ]
  },
  {
   "cell_type": "code",
   "execution_count": 52,
   "metadata": {},
   "outputs": [],
   "source": [
    "import numpy as np\n",
    "import pandas as pd\n",
    "import numpy.linalg as la\n",
    "import math \n",
    "from collections import Counter\n",
    "import numpy as np\n",
    "from numpy.linalg import norm"
   ]
  },
  {
   "cell_type": "code",
   "execution_count": 49,
   "metadata": {},
   "outputs": [
    {
     "name": "stdout",
     "output_type": "stream",
     "text": [
      "[[0.22572613]]\n"
     ]
    }
   ],
   "source": [
    "# v.T means transpose of v, @ means matrix multiplication.\n",
    "from numpy import arccos, dot\n",
    "\n",
    "v1 = np.array([[1, 2, 3]])\n",
    "v2 = np.array([[4, 5, 6]])\n",
    "theta = \\\n",
    "    arccos(dot(v1, v2.T)/(norm(v1)*norm(v2)))\n",
    "print(theta)"
   ]
  },
  {
   "cell_type": "code",
   "execution_count": 40,
   "metadata": {},
   "outputs": [
    {
     "data": {
      "text/plain": [
       "0.2257261285527342"
      ]
     },
     "execution_count": 40,
     "metadata": {},
     "output_type": "execute_result"
    }
   ],
   "source": [
    "#using function\n",
    "from numpy import arccos, dot\n",
    "\n",
    "def angle_between(v1, v2):\n",
    "    \n",
    "    for i,n in zip(v1, v2):\n",
    "        theta = \\\n",
    "    arccos(dot(v1, v2)/(norm(v1)*norm(v2)))\n",
    "        return theta\n",
    "    \n",
    "v1 = [1, 2, 3]\n",
    "v2 = [4, 5, 6]\n",
    "    \n",
    "angle_between(v1, v2)\n",
    "    "
   ]
  },
  {
   "cell_type": "code",
   "execution_count": 55,
   "metadata": {},
   "outputs": [
    {
     "name": "stdout",
     "output_type": "stream",
     "text": [
      "0.2257261285527342\n"
     ]
    }
   ],
   "source": [
    "from numpy import arccos, dot\n",
    "v1 = [1, 2, 3]\n",
    "v2 = [4, 5, 6]\n",
    "unit_1 = v1 / np. linalg. norm(v1)\n",
    "unit_2 = v2 / np. linalg. norm(v2)\n",
    "dot_product = np. dot(unit_1, unit_2)\n",
    "angle = np. arccos(dot_product)\n",
    "print(angle)"
   ]
  },
  {
   "cell_type": "code",
   "execution_count": 81,
   "metadata": {},
   "outputs": [
    {
     "name": "stdout",
     "output_type": "stream",
     "text": [
      "1.5707963267948966\n"
     ]
    }
   ],
   "source": [
    "from numpy import arccos, dot\n",
    "\n",
    "def angle_between(self):\n",
    "            unit_vector_1 = self.vector_1 / np.linalg.norm(self.vector_1)\n",
    "            unit_vector_2 = self.vector_2 / np.linalg.norm(self.vector_2)\n",
    "            dot_product = np.dot(unit_vector_1.T, unit_vector_2)\n",
    "            angle = np.arccos(dot_product)\n",
    "            print(angle)\n",
    "            \n",
    "v1=Vector([0,1],[1,0])\n",
    "v2=Vector([0,1],[1,0])\n",
    "v1.angle_between()\n",
    "            "
   ]
  },
  {
   "cell_type": "markdown",
   "metadata": {},
   "source": [
    "#### 2.Write a function called row_dot(A, r1, r2) which takes an input matrix called A, one row number identified by r1, and another row number identified by r2 and returns the dot product of the r1 and r2 rows (indexing starts at 0).\n"
   ]
  },
  {
   "cell_type": "code",
   "execution_count": 38,
   "metadata": {},
   "outputs": [],
   "source": [
    "def row_dot (A):\n",
    "    r1=A[0]\n",
    "    r2=A[1]\n",
    "    print(np.dot(A[0],A[1]))\n",
    "    "
   ]
  },
  {
   "cell_type": "code",
   "execution_count": 39,
   "metadata": {},
   "outputs": [
    {
     "name": "stdout",
     "output_type": "stream",
     "text": [
      "58\n"
     ]
    }
   ],
   "source": [
    "row_dot([[3,5,6],[8,2,4]])"
   ]
  },
  {
   "cell_type": "code",
   "execution_count": 54,
   "metadata": {},
   "outputs": [
    {
     "name": "stdout",
     "output_type": "stream",
     "text": [
      "41\n",
      "66\n"
     ]
    }
   ],
   "source": [
    "def row_dot(A): \n",
    "    r1 = A[0,:]\n",
    "    r2 = A[1,:]\n",
    "    answer = np.dot(r1,r2)\n",
    "    return print(answer)\n",
    "    \n",
    "    \n",
    "A = np.array([[1,4,6], [3,2,5]])\n",
    "\n",
    "B = np.array([[3,5], [7,9]])\n",
    "\n",
    "row_dot(A)\n",
    "row_dot(B)"
   ]
  },
  {
   "cell_type": "code",
   "execution_count": 53,
   "metadata": {},
   "outputs": [
    {
     "name": "stdout",
     "output_type": "stream",
     "text": [
      "[[ 4  3]\n",
      " [-5  9]]\n"
     ]
    },
    {
     "data": {
      "text/plain": [
       "7"
      ]
     },
     "execution_count": 53,
     "metadata": {},
     "output_type": "execute_result"
    }
   ],
   "source": [
    "import numpy as np\n",
    "\n",
    "def row_dot(a,r1,r2):\n",
    "    a= np.array([[4,3],[-5,9]])\n",
    "    print(a)\n",
    "    return np.dot(r1,r2)\n",
    "\n",
    "r1 = [4,3]\n",
    "r2 = [-5,9]\n",
    "row_dot(a,r1,r2)"
   ]
  },
  {
   "cell_type": "markdown",
   "metadata": {},
   "source": [
    "#### 3.Write a function matrix_division(m1, m2) that takes in two matrices, m1 and m2, and returns the result. What is the trick with matrix division?"
   ]
  },
  {
   "cell_type": "code",
   "execution_count": 84,
   "metadata": {},
   "outputs": [
    {
     "name": "stdout",
     "output_type": "stream",
     "text": [
      "[[4 7]\n",
      " [2 6]]\n",
      "[[ 0.6 -0.7]\n",
      " [-0.2  0.4]]\n",
      "[[ 1.00000000e+00 -1.11022302e-16]\n",
      " [-1.11022302e-16  1.00000000e+00]]\n"
     ]
    }
   ],
   "source": [
    "import numpy as np\n",
    "M1 = np.array([[4,7],[2,6]])\n",
    "M2 = np.linalg.inv(M1)\n",
    "def matrix_division(M1,M2):\n",
    "    \n",
    "    #M1 = np.array([[4,7],[2,6]])\n",
    "    #M2 = np.linalg.inv(M1)\n",
    "    result = np.dot(M1,M2)\n",
    "    print(M1)\n",
    "    print(M2)\n",
    "    print(np.dot(M1,M2))\n",
    "    \n",
    "matrix_division(M1,M2)"
   ]
  },
  {
   "cell_type": "code",
   "execution_count": 38,
   "metadata": {},
   "outputs": [
    {
     "name": "stdout",
     "output_type": "stream",
     "text": [
      "[[4 7]\n",
      " [2 6]]\n",
      "[[ 0.6 -0.7]\n",
      " [-0.2  0.4]]\n",
      "[[ 1.00000000e+00 -1.11022302e-16]\n",
      " [-1.11022302e-16  1.00000000e+00]]\n"
     ]
    }
   ],
   "source": [
    "import numpy as np\n",
    "def matrix_division(m1,m2):\n",
    "    result=np.dot(m1,m2)\n",
    "    print(m1)\n",
    "    print(m2)\n",
    "    print(np.dot(m1,m2))\n",
    "    \n",
    "m1=np.array([[4,7],[2,6]])\n",
    "m2=np.linalg.inv(m1)\n",
    "matrix_division(m1,m2)\n"
   ]
  },
  {
   "cell_type": "markdown",
   "metadata": {},
   "source": [
    "#### 4.Write a function is_orthogonal(v1,v2, tol), where v1 and v2 are column vectors of the same size and tol is a scalar value strictly larger than 0. The output should be 1 if the angle between v1 and v2 is within tol of π/2; that is, |π/2−θ|<tol|π/2−θ|<tol, and 0 otherwise. You may assume that v1 and v2 are column vectors of the same size, and that tol is a positive scalar.¶\n"
   ]
  },
  {
   "cell_type": "code",
   "execution_count": 71,
   "metadata": {},
   "outputs": [
    {
     "name": "stdout",
     "output_type": "stream",
     "text": [
      "output: 1\n",
      "output: 0\n",
      "output: 0\n",
      "output: 1\n"
     ]
    }
   ],
   "source": [
    "from scipy import linalg\n",
    "def is_orthogonal(v1,v2,tol):\n",
    "    v1T=np.transpose(v1)\n",
    "    cos_angle=(np.dot(v1T,v2))/(linalg.norm(v1T)*linalg.norm(v2))\n",
    "    theta_rad=math.acos(cos_angle)\n",
    "    if -tol< ((math.pi)/2-theta_rad) < tol:\n",
    "        print (\"output:\", 1)\n",
    "    else:\n",
    "        print (\"output:\", 0)\n",
    "        return(theta_rad)\n",
    "    \n",
    "#Test case 1\n",
    "v1 = np.array([[1], [0.001]])\n",
    "v2 = np.array([[0.001], [1]])\n",
    "\n",
    "# output: 1\n",
    "is_orthogonal(v1,v2, 0.01)  \n",
    "\n",
    "#Test case 2\n",
    "v1 = np.array([[1], [0.001]])\n",
    "v2 = np.array([[0.001], [1]])\n",
    "#output 0\n",
    "is_orthogonal(v1,v2, 0.001)\n",
    "\n",
    "#Test case 3\n",
    "v1 = np.array([[1], [0.001]])\n",
    "v2 = np.array([[1], [1]])\n",
    "#output 0\n",
    "is_orthogonal(v1,v2, 0.01)\n",
    "\n",
    "#Test case 4\n",
    "v1 = np.array([[1], [1]])\n",
    "v2 = np.array([[-1], [1]])\n",
    "#output 1\n",
    "is_orthogonal(v1,v2, 1e-10)\n"
   ]
  },
  {
   "cell_type": "markdown",
   "metadata": {},
   "source": [
    "#### 5.Create a class called vector_calculator. init should take self, vector1, and vector2. It should have two methods inside of it that are from problems 1 and 4 above (angle_between and is_orthogonal). Make sure tol is defaulted but can be overwritten. Make sure you can call angle_between and is_orthogonal through the class and return the correct results as in problems 1 and 4."
   ]
  },
  {
   "cell_type": "code",
   "execution_count": 76,
   "metadata": {},
   "outputs": [
    {
     "name": "stdout",
     "output_type": "stream",
     "text": [
      "1.5707963267948966\n"
     ]
    }
   ],
   "source": [
    "class Vector:\n",
    "        tol =1\n",
    "        def __init__(self,vector_1,vector_2):\n",
    "            self.vector_1 = vector_1\n",
    "            self.vector_2 = vector_2\n",
    "        def angle_between(self):\n",
    "            unit_vector_1 = self.vector_1 / np.linalg.norm(self.vector_1)\n",
    "            unit_vector_2 = self.vector_2 / np.linalg.norm(self.vector_2)\n",
    "            dot_product = np.dot(unit_vector_1.T, unit_vector_2)\n",
    "            angle = np.arccos(dot_product)\n",
    "            print(angle)\n",
    "\n",
    "        def is_orthogonal(self):\n",
    "            unit_vector_1 = self.vector_1 / np.linalg.norm(self.vector_1)\n",
    "            unit_vector_2 = self.vector_2 / np.linalg.norm(self.vector_2)\n",
    "            dot_product = np.dot(unit_vector_1.T, unit_vector_2)\n",
    "            angle = np.arccos(dot_product)\n",
    "            print(angle)\n",
    "            if -tol < ((math.pi)/2-angle) < tol:\n",
    "                print(\"output:\", 1)\n",
    "            else :\n",
    "                print(\"output:\", 0)\n",
    "\n",
    "v1=Vector([0,1],[1,0])\n",
    "\n",
    "v1.angle_between()\n"
   ]
  },
  {
   "cell_type": "markdown",
   "metadata": {},
   "source": [
    "#### 6.Show a graphical representation of the breast cancer data outlined in this reading https://www.datacamp.com/community/tutorials/principal-component-analysis-in-python Be sure to describe what PCA is and incorporate the principal components in your plot. This is just exploratory, so there are many correct answers!"
   ]
  },
  {
   "cell_type": "code",
   "execution_count": 2,
   "metadata": {},
   "outputs": [],
   "source": [
    "from sklearn.datasets import load_breast_cancer\n",
    "import pandas as pd\n",
    "import numpy as np \n",
    "import matplotlib.pyplot as plt\n",
    "import seaborn as sns  "
   ]
  },
  {
   "cell_type": "code",
   "execution_count": 4,
   "metadata": {},
   "outputs": [
    {
     "data": {
      "text/plain": [
       "<function sklearn.datasets._base.load_breast_cancer(*, return_X_y=False, as_frame=False)>"
      ]
     },
     "execution_count": 4,
     "metadata": {},
     "output_type": "execute_result"
    }
   ],
   "source": [
    "load_breast_cancer"
   ]
  },
  {
   "cell_type": "code",
   "execution_count": 5,
   "metadata": {},
   "outputs": [],
   "source": [
    "breast = load_breast_cancer()"
   ]
  },
  {
   "cell_type": "code",
   "execution_count": 15,
   "metadata": {},
   "outputs": [],
   "source": [
    "breast_data = breast.data"
   ]
  },
  {
   "cell_type": "code",
   "execution_count": 16,
   "metadata": {},
   "outputs": [],
   "source": [
    "from sklearn.preprocessing import StandardScaler"
   ]
  },
  {
   "cell_type": "code",
   "execution_count": 17,
   "metadata": {},
   "outputs": [],
   "source": [
    "standardized = StandardScaler()"
   ]
  },
  {
   "cell_type": "code",
   "execution_count": 18,
   "metadata": {},
   "outputs": [
    {
     "data": {
      "text/plain": [
       "(569, 30)"
      ]
     },
     "execution_count": 18,
     "metadata": {},
     "output_type": "execute_result"
    }
   ],
   "source": [
    "breast_data.shape"
   ]
  },
  {
   "cell_type": "code",
   "execution_count": 20,
   "metadata": {},
   "outputs": [],
   "source": [
    "breast_labels = breast.target"
   ]
  },
  {
   "cell_type": "code",
   "execution_count": 21,
   "metadata": {},
   "outputs": [],
   "source": [
    "labels = np.reshape(breast_labels,(569,1))"
   ]
  },
  {
   "cell_type": "code",
   "execution_count": 22,
   "metadata": {},
   "outputs": [
    {
     "data": {
      "text/plain": [
       "(569,)"
      ]
     },
     "execution_count": 22,
     "metadata": {},
     "output_type": "execute_result"
    }
   ],
   "source": [
    "breast_labels.shape"
   ]
  },
  {
   "cell_type": "code",
   "execution_count": 23,
   "metadata": {},
   "outputs": [],
   "source": [
    "final_breast_data = np.concatenate([breast_data,labels],axis=1)"
   ]
  },
  {
   "cell_type": "code",
   "execution_count": 24,
   "metadata": {},
   "outputs": [
    {
     "data": {
      "text/plain": [
       "(569, 31)"
      ]
     },
     "execution_count": 24,
     "metadata": {},
     "output_type": "execute_result"
    }
   ],
   "source": [
    "final_breast_data.shape"
   ]
  },
  {
   "cell_type": "code",
   "execution_count": 25,
   "metadata": {},
   "outputs": [],
   "source": [
    "breast_dataset = pd.DataFrame(final_breast_data)"
   ]
  },
  {
   "cell_type": "code",
   "execution_count": 26,
   "metadata": {},
   "outputs": [
    {
     "data": {
      "text/plain": [
       "array(['mean radius', 'mean texture', 'mean perimeter', 'mean area',\n",
       "       'mean smoothness', 'mean compactness', 'mean concavity',\n",
       "       'mean concave points', 'mean symmetry', 'mean fractal dimension',\n",
       "       'radius error', 'texture error', 'perimeter error', 'area error',\n",
       "       'smoothness error', 'compactness error', 'concavity error',\n",
       "       'concave points error', 'symmetry error',\n",
       "       'fractal dimension error', 'worst radius', 'worst texture',\n",
       "       'worst perimeter', 'worst area', 'worst smoothness',\n",
       "       'worst compactness', 'worst concavity', 'worst concave points',\n",
       "       'worst symmetry', 'worst fractal dimension'], dtype='<U23')"
      ]
     },
     "execution_count": 26,
     "metadata": {},
     "output_type": "execute_result"
    }
   ],
   "source": [
    "features = breast.feature_names\n",
    "features"
   ]
  },
  {
   "cell_type": "code",
   "execution_count": 27,
   "metadata": {},
   "outputs": [],
   "source": [
    "features_labels = np.append(features,'label')"
   ]
  },
  {
   "cell_type": "code",
   "execution_count": 28,
   "metadata": {},
   "outputs": [],
   "source": [
    "breast_dataset.columns = features_labels"
   ]
  },
  {
   "cell_type": "code",
   "execution_count": 29,
   "metadata": {},
   "outputs": [
    {
     "data": {
      "text/html": [
       "<div>\n",
       "<style scoped>\n",
       "    .dataframe tbody tr th:only-of-type {\n",
       "        vertical-align: middle;\n",
       "    }\n",
       "\n",
       "    .dataframe tbody tr th {\n",
       "        vertical-align: top;\n",
       "    }\n",
       "\n",
       "    .dataframe thead th {\n",
       "        text-align: right;\n",
       "    }\n",
       "</style>\n",
       "<table border=\"1\" class=\"dataframe\">\n",
       "  <thead>\n",
       "    <tr style=\"text-align: right;\">\n",
       "      <th></th>\n",
       "      <th>mean radius</th>\n",
       "      <th>mean texture</th>\n",
       "      <th>mean perimeter</th>\n",
       "      <th>mean area</th>\n",
       "      <th>mean smoothness</th>\n",
       "      <th>mean compactness</th>\n",
       "      <th>mean concavity</th>\n",
       "      <th>mean concave points</th>\n",
       "      <th>mean symmetry</th>\n",
       "      <th>mean fractal dimension</th>\n",
       "      <th>...</th>\n",
       "      <th>worst texture</th>\n",
       "      <th>worst perimeter</th>\n",
       "      <th>worst area</th>\n",
       "      <th>worst smoothness</th>\n",
       "      <th>worst compactness</th>\n",
       "      <th>worst concavity</th>\n",
       "      <th>worst concave points</th>\n",
       "      <th>worst symmetry</th>\n",
       "      <th>worst fractal dimension</th>\n",
       "      <th>label</th>\n",
       "    </tr>\n",
       "  </thead>\n",
       "  <tbody>\n",
       "    <tr>\n",
       "      <th>0</th>\n",
       "      <td>17.99</td>\n",
       "      <td>10.38</td>\n",
       "      <td>122.80</td>\n",
       "      <td>1001.0</td>\n",
       "      <td>0.11840</td>\n",
       "      <td>0.27760</td>\n",
       "      <td>0.3001</td>\n",
       "      <td>0.14710</td>\n",
       "      <td>0.2419</td>\n",
       "      <td>0.07871</td>\n",
       "      <td>...</td>\n",
       "      <td>17.33</td>\n",
       "      <td>184.60</td>\n",
       "      <td>2019.0</td>\n",
       "      <td>0.1622</td>\n",
       "      <td>0.6656</td>\n",
       "      <td>0.7119</td>\n",
       "      <td>0.2654</td>\n",
       "      <td>0.4601</td>\n",
       "      <td>0.11890</td>\n",
       "      <td>0.0</td>\n",
       "    </tr>\n",
       "    <tr>\n",
       "      <th>1</th>\n",
       "      <td>20.57</td>\n",
       "      <td>17.77</td>\n",
       "      <td>132.90</td>\n",
       "      <td>1326.0</td>\n",
       "      <td>0.08474</td>\n",
       "      <td>0.07864</td>\n",
       "      <td>0.0869</td>\n",
       "      <td>0.07017</td>\n",
       "      <td>0.1812</td>\n",
       "      <td>0.05667</td>\n",
       "      <td>...</td>\n",
       "      <td>23.41</td>\n",
       "      <td>158.80</td>\n",
       "      <td>1956.0</td>\n",
       "      <td>0.1238</td>\n",
       "      <td>0.1866</td>\n",
       "      <td>0.2416</td>\n",
       "      <td>0.1860</td>\n",
       "      <td>0.2750</td>\n",
       "      <td>0.08902</td>\n",
       "      <td>0.0</td>\n",
       "    </tr>\n",
       "    <tr>\n",
       "      <th>2</th>\n",
       "      <td>19.69</td>\n",
       "      <td>21.25</td>\n",
       "      <td>130.00</td>\n",
       "      <td>1203.0</td>\n",
       "      <td>0.10960</td>\n",
       "      <td>0.15990</td>\n",
       "      <td>0.1974</td>\n",
       "      <td>0.12790</td>\n",
       "      <td>0.2069</td>\n",
       "      <td>0.05999</td>\n",
       "      <td>...</td>\n",
       "      <td>25.53</td>\n",
       "      <td>152.50</td>\n",
       "      <td>1709.0</td>\n",
       "      <td>0.1444</td>\n",
       "      <td>0.4245</td>\n",
       "      <td>0.4504</td>\n",
       "      <td>0.2430</td>\n",
       "      <td>0.3613</td>\n",
       "      <td>0.08758</td>\n",
       "      <td>0.0</td>\n",
       "    </tr>\n",
       "    <tr>\n",
       "      <th>3</th>\n",
       "      <td>11.42</td>\n",
       "      <td>20.38</td>\n",
       "      <td>77.58</td>\n",
       "      <td>386.1</td>\n",
       "      <td>0.14250</td>\n",
       "      <td>0.28390</td>\n",
       "      <td>0.2414</td>\n",
       "      <td>0.10520</td>\n",
       "      <td>0.2597</td>\n",
       "      <td>0.09744</td>\n",
       "      <td>...</td>\n",
       "      <td>26.50</td>\n",
       "      <td>98.87</td>\n",
       "      <td>567.7</td>\n",
       "      <td>0.2098</td>\n",
       "      <td>0.8663</td>\n",
       "      <td>0.6869</td>\n",
       "      <td>0.2575</td>\n",
       "      <td>0.6638</td>\n",
       "      <td>0.17300</td>\n",
       "      <td>0.0</td>\n",
       "    </tr>\n",
       "    <tr>\n",
       "      <th>4</th>\n",
       "      <td>20.29</td>\n",
       "      <td>14.34</td>\n",
       "      <td>135.10</td>\n",
       "      <td>1297.0</td>\n",
       "      <td>0.10030</td>\n",
       "      <td>0.13280</td>\n",
       "      <td>0.1980</td>\n",
       "      <td>0.10430</td>\n",
       "      <td>0.1809</td>\n",
       "      <td>0.05883</td>\n",
       "      <td>...</td>\n",
       "      <td>16.67</td>\n",
       "      <td>152.20</td>\n",
       "      <td>1575.0</td>\n",
       "      <td>0.1374</td>\n",
       "      <td>0.2050</td>\n",
       "      <td>0.4000</td>\n",
       "      <td>0.1625</td>\n",
       "      <td>0.2364</td>\n",
       "      <td>0.07678</td>\n",
       "      <td>0.0</td>\n",
       "    </tr>\n",
       "  </tbody>\n",
       "</table>\n",
       "<p>5 rows × 31 columns</p>\n",
       "</div>"
      ],
      "text/plain": [
       "   mean radius  mean texture  mean perimeter  mean area  mean smoothness  \\\n",
       "0        17.99         10.38          122.80     1001.0          0.11840   \n",
       "1        20.57         17.77          132.90     1326.0          0.08474   \n",
       "2        19.69         21.25          130.00     1203.0          0.10960   \n",
       "3        11.42         20.38           77.58      386.1          0.14250   \n",
       "4        20.29         14.34          135.10     1297.0          0.10030   \n",
       "\n",
       "   mean compactness  mean concavity  mean concave points  mean symmetry  \\\n",
       "0           0.27760          0.3001              0.14710         0.2419   \n",
       "1           0.07864          0.0869              0.07017         0.1812   \n",
       "2           0.15990          0.1974              0.12790         0.2069   \n",
       "3           0.28390          0.2414              0.10520         0.2597   \n",
       "4           0.13280          0.1980              0.10430         0.1809   \n",
       "\n",
       "   mean fractal dimension  ...  worst texture  worst perimeter  worst area  \\\n",
       "0                 0.07871  ...          17.33           184.60      2019.0   \n",
       "1                 0.05667  ...          23.41           158.80      1956.0   \n",
       "2                 0.05999  ...          25.53           152.50      1709.0   \n",
       "3                 0.09744  ...          26.50            98.87       567.7   \n",
       "4                 0.05883  ...          16.67           152.20      1575.0   \n",
       "\n",
       "   worst smoothness  worst compactness  worst concavity  worst concave points  \\\n",
       "0            0.1622             0.6656           0.7119                0.2654   \n",
       "1            0.1238             0.1866           0.2416                0.1860   \n",
       "2            0.1444             0.4245           0.4504                0.2430   \n",
       "3            0.2098             0.8663           0.6869                0.2575   \n",
       "4            0.1374             0.2050           0.4000                0.1625   \n",
       "\n",
       "   worst symmetry  worst fractal dimension  label  \n",
       "0          0.4601                  0.11890    0.0  \n",
       "1          0.2750                  0.08902    0.0  \n",
       "2          0.3613                  0.08758    0.0  \n",
       "3          0.6638                  0.17300    0.0  \n",
       "4          0.2364                  0.07678    0.0  \n",
       "\n",
       "[5 rows x 31 columns]"
      ]
     },
     "execution_count": 29,
     "metadata": {},
     "output_type": "execute_result"
    }
   ],
   "source": [
    "breast_dataset.head()\n"
   ]
  },
  {
   "cell_type": "code",
   "execution_count": 40,
   "metadata": {},
   "outputs": [],
   "source": [
    "breast_dataset['label'].replace(0, 'Benign',inplace=True)\n",
    "breast_dataset['label'].replace(1, 'Malignant',inplace=True)"
   ]
  },
  {
   "cell_type": "code",
   "execution_count": 39,
   "metadata": {},
   "outputs": [
    {
     "data": {
      "text/html": [
       "<div>\n",
       "<style scoped>\n",
       "    .dataframe tbody tr th:only-of-type {\n",
       "        vertical-align: middle;\n",
       "    }\n",
       "\n",
       "    .dataframe tbody tr th {\n",
       "        vertical-align: top;\n",
       "    }\n",
       "\n",
       "    .dataframe thead th {\n",
       "        text-align: right;\n",
       "    }\n",
       "</style>\n",
       "<table border=\"1\" class=\"dataframe\">\n",
       "  <thead>\n",
       "    <tr style=\"text-align: right;\">\n",
       "      <th></th>\n",
       "      <th>mean radius</th>\n",
       "      <th>mean texture</th>\n",
       "      <th>mean perimeter</th>\n",
       "      <th>mean area</th>\n",
       "      <th>mean smoothness</th>\n",
       "      <th>mean compactness</th>\n",
       "      <th>mean concavity</th>\n",
       "      <th>mean concave points</th>\n",
       "      <th>mean symmetry</th>\n",
       "      <th>mean fractal dimension</th>\n",
       "      <th>...</th>\n",
       "      <th>worst texture</th>\n",
       "      <th>worst perimeter</th>\n",
       "      <th>worst area</th>\n",
       "      <th>worst smoothness</th>\n",
       "      <th>worst compactness</th>\n",
       "      <th>worst concavity</th>\n",
       "      <th>worst concave points</th>\n",
       "      <th>worst symmetry</th>\n",
       "      <th>worst fractal dimension</th>\n",
       "      <th>label</th>\n",
       "    </tr>\n",
       "  </thead>\n",
       "  <tbody>\n",
       "    <tr>\n",
       "      <th>564</th>\n",
       "      <td>21.56</td>\n",
       "      <td>22.39</td>\n",
       "      <td>142.00</td>\n",
       "      <td>1479.0</td>\n",
       "      <td>0.11100</td>\n",
       "      <td>0.11590</td>\n",
       "      <td>0.24390</td>\n",
       "      <td>0.13890</td>\n",
       "      <td>0.1726</td>\n",
       "      <td>0.05623</td>\n",
       "      <td>...</td>\n",
       "      <td>26.40</td>\n",
       "      <td>166.10</td>\n",
       "      <td>2027.0</td>\n",
       "      <td>0.14100</td>\n",
       "      <td>0.21130</td>\n",
       "      <td>0.4107</td>\n",
       "      <td>0.2216</td>\n",
       "      <td>0.2060</td>\n",
       "      <td>0.07115</td>\n",
       "      <td>0.0</td>\n",
       "    </tr>\n",
       "    <tr>\n",
       "      <th>565</th>\n",
       "      <td>20.13</td>\n",
       "      <td>28.25</td>\n",
       "      <td>131.20</td>\n",
       "      <td>1261.0</td>\n",
       "      <td>0.09780</td>\n",
       "      <td>0.10340</td>\n",
       "      <td>0.14400</td>\n",
       "      <td>0.09791</td>\n",
       "      <td>0.1752</td>\n",
       "      <td>0.05533</td>\n",
       "      <td>...</td>\n",
       "      <td>38.25</td>\n",
       "      <td>155.00</td>\n",
       "      <td>1731.0</td>\n",
       "      <td>0.11660</td>\n",
       "      <td>0.19220</td>\n",
       "      <td>0.3215</td>\n",
       "      <td>0.1628</td>\n",
       "      <td>0.2572</td>\n",
       "      <td>0.06637</td>\n",
       "      <td>0.0</td>\n",
       "    </tr>\n",
       "    <tr>\n",
       "      <th>566</th>\n",
       "      <td>16.60</td>\n",
       "      <td>28.08</td>\n",
       "      <td>108.30</td>\n",
       "      <td>858.1</td>\n",
       "      <td>0.08455</td>\n",
       "      <td>0.10230</td>\n",
       "      <td>0.09251</td>\n",
       "      <td>0.05302</td>\n",
       "      <td>0.1590</td>\n",
       "      <td>0.05648</td>\n",
       "      <td>...</td>\n",
       "      <td>34.12</td>\n",
       "      <td>126.70</td>\n",
       "      <td>1124.0</td>\n",
       "      <td>0.11390</td>\n",
       "      <td>0.30940</td>\n",
       "      <td>0.3403</td>\n",
       "      <td>0.1418</td>\n",
       "      <td>0.2218</td>\n",
       "      <td>0.07820</td>\n",
       "      <td>0.0</td>\n",
       "    </tr>\n",
       "    <tr>\n",
       "      <th>567</th>\n",
       "      <td>20.60</td>\n",
       "      <td>29.33</td>\n",
       "      <td>140.10</td>\n",
       "      <td>1265.0</td>\n",
       "      <td>0.11780</td>\n",
       "      <td>0.27700</td>\n",
       "      <td>0.35140</td>\n",
       "      <td>0.15200</td>\n",
       "      <td>0.2397</td>\n",
       "      <td>0.07016</td>\n",
       "      <td>...</td>\n",
       "      <td>39.42</td>\n",
       "      <td>184.60</td>\n",
       "      <td>1821.0</td>\n",
       "      <td>0.16500</td>\n",
       "      <td>0.86810</td>\n",
       "      <td>0.9387</td>\n",
       "      <td>0.2650</td>\n",
       "      <td>0.4087</td>\n",
       "      <td>0.12400</td>\n",
       "      <td>0.0</td>\n",
       "    </tr>\n",
       "    <tr>\n",
       "      <th>568</th>\n",
       "      <td>7.76</td>\n",
       "      <td>24.54</td>\n",
       "      <td>47.92</td>\n",
       "      <td>181.0</td>\n",
       "      <td>0.05263</td>\n",
       "      <td>0.04362</td>\n",
       "      <td>0.00000</td>\n",
       "      <td>0.00000</td>\n",
       "      <td>0.1587</td>\n",
       "      <td>0.05884</td>\n",
       "      <td>...</td>\n",
       "      <td>30.37</td>\n",
       "      <td>59.16</td>\n",
       "      <td>268.6</td>\n",
       "      <td>0.08996</td>\n",
       "      <td>0.06444</td>\n",
       "      <td>0.0000</td>\n",
       "      <td>0.0000</td>\n",
       "      <td>0.2871</td>\n",
       "      <td>0.07039</td>\n",
       "      <td>1.0</td>\n",
       "    </tr>\n",
       "  </tbody>\n",
       "</table>\n",
       "<p>5 rows × 31 columns</p>\n",
       "</div>"
      ],
      "text/plain": [
       "     mean radius  mean texture  mean perimeter  mean area  mean smoothness  \\\n",
       "564        21.56         22.39          142.00     1479.0          0.11100   \n",
       "565        20.13         28.25          131.20     1261.0          0.09780   \n",
       "566        16.60         28.08          108.30      858.1          0.08455   \n",
       "567        20.60         29.33          140.10     1265.0          0.11780   \n",
       "568         7.76         24.54           47.92      181.0          0.05263   \n",
       "\n",
       "     mean compactness  mean concavity  mean concave points  mean symmetry  \\\n",
       "564           0.11590         0.24390              0.13890         0.1726   \n",
       "565           0.10340         0.14400              0.09791         0.1752   \n",
       "566           0.10230         0.09251              0.05302         0.1590   \n",
       "567           0.27700         0.35140              0.15200         0.2397   \n",
       "568           0.04362         0.00000              0.00000         0.1587   \n",
       "\n",
       "     mean fractal dimension  ...  worst texture  worst perimeter  worst area  \\\n",
       "564                 0.05623  ...          26.40           166.10      2027.0   \n",
       "565                 0.05533  ...          38.25           155.00      1731.0   \n",
       "566                 0.05648  ...          34.12           126.70      1124.0   \n",
       "567                 0.07016  ...          39.42           184.60      1821.0   \n",
       "568                 0.05884  ...          30.37            59.16       268.6   \n",
       "\n",
       "     worst smoothness  worst compactness  worst concavity  \\\n",
       "564           0.14100            0.21130           0.4107   \n",
       "565           0.11660            0.19220           0.3215   \n",
       "566           0.11390            0.30940           0.3403   \n",
       "567           0.16500            0.86810           0.9387   \n",
       "568           0.08996            0.06444           0.0000   \n",
       "\n",
       "     worst concave points  worst symmetry  worst fractal dimension  label  \n",
       "564                0.2216          0.2060                  0.07115    0.0  \n",
       "565                0.1628          0.2572                  0.06637    0.0  \n",
       "566                0.1418          0.2218                  0.07820    0.0  \n",
       "567                0.2650          0.4087                  0.12400    0.0  \n",
       "568                0.0000          0.2871                  0.07039    1.0  \n",
       "\n",
       "[5 rows x 31 columns]"
      ]
     },
     "execution_count": 39,
     "metadata": {},
     "output_type": "execute_result"
    }
   ],
   "source": [
    "breast_dataset.tail()"
   ]
  },
  {
   "cell_type": "code",
   "execution_count": 30,
   "metadata": {},
   "outputs": [
    {
     "data": {
      "text/html": [
       "<div>\n",
       "<style scoped>\n",
       "    .dataframe tbody tr th:only-of-type {\n",
       "        vertical-align: middle;\n",
       "    }\n",
       "\n",
       "    .dataframe tbody tr th {\n",
       "        vertical-align: top;\n",
       "    }\n",
       "\n",
       "    .dataframe thead th {\n",
       "        text-align: right;\n",
       "    }\n",
       "</style>\n",
       "<table border=\"1\" class=\"dataframe\">\n",
       "  <thead>\n",
       "    <tr style=\"text-align: right;\">\n",
       "      <th></th>\n",
       "      <th>mean radius</th>\n",
       "      <th>mean texture</th>\n",
       "      <th>mean perimeter</th>\n",
       "      <th>mean area</th>\n",
       "      <th>mean smoothness</th>\n",
       "      <th>mean concavity</th>\n",
       "      <th>mean concave points</th>\n",
       "      <th>mean symmetry</th>\n",
       "    </tr>\n",
       "  </thead>\n",
       "  <tbody>\n",
       "    <tr>\n",
       "      <th>0</th>\n",
       "      <td>17.99</td>\n",
       "      <td>10.38</td>\n",
       "      <td>122.80</td>\n",
       "      <td>1001.0</td>\n",
       "      <td>0.11840</td>\n",
       "      <td>0.3001</td>\n",
       "      <td>0.14710</td>\n",
       "      <td>0.2419</td>\n",
       "    </tr>\n",
       "    <tr>\n",
       "      <th>1</th>\n",
       "      <td>20.57</td>\n",
       "      <td>17.77</td>\n",
       "      <td>132.90</td>\n",
       "      <td>1326.0</td>\n",
       "      <td>0.08474</td>\n",
       "      <td>0.0869</td>\n",
       "      <td>0.07017</td>\n",
       "      <td>0.1812</td>\n",
       "    </tr>\n",
       "    <tr>\n",
       "      <th>2</th>\n",
       "      <td>19.69</td>\n",
       "      <td>21.25</td>\n",
       "      <td>130.00</td>\n",
       "      <td>1203.0</td>\n",
       "      <td>0.10960</td>\n",
       "      <td>0.1974</td>\n",
       "      <td>0.12790</td>\n",
       "      <td>0.2069</td>\n",
       "    </tr>\n",
       "    <tr>\n",
       "      <th>3</th>\n",
       "      <td>11.42</td>\n",
       "      <td>20.38</td>\n",
       "      <td>77.58</td>\n",
       "      <td>386.1</td>\n",
       "      <td>0.14250</td>\n",
       "      <td>0.2414</td>\n",
       "      <td>0.10520</td>\n",
       "      <td>0.2597</td>\n",
       "    </tr>\n",
       "    <tr>\n",
       "      <th>4</th>\n",
       "      <td>20.29</td>\n",
       "      <td>14.34</td>\n",
       "      <td>135.10</td>\n",
       "      <td>1297.0</td>\n",
       "      <td>0.10030</td>\n",
       "      <td>0.1980</td>\n",
       "      <td>0.10430</td>\n",
       "      <td>0.1809</td>\n",
       "    </tr>\n",
       "  </tbody>\n",
       "</table>\n",
       "</div>"
      ],
      "text/plain": [
       "   mean radius  mean texture  mean perimeter  mean area  mean smoothness  \\\n",
       "0        17.99         10.38          122.80     1001.0          0.11840   \n",
       "1        20.57         17.77          132.90     1326.0          0.08474   \n",
       "2        19.69         21.25          130.00     1203.0          0.10960   \n",
       "3        11.42         20.38           77.58      386.1          0.14250   \n",
       "4        20.29         14.34          135.10     1297.0          0.10030   \n",
       "\n",
       "   mean concavity  mean concave points  mean symmetry  \n",
       "0          0.3001              0.14710         0.2419  \n",
       "1          0.0869              0.07017         0.1812  \n",
       "2          0.1974              0.12790         0.2069  \n",
       "3          0.2414              0.10520         0.2597  \n",
       "4          0.1980              0.10430         0.1809  "
      ]
     },
     "execution_count": 30,
     "metadata": {},
     "output_type": "execute_result"
    }
   ],
   "source": [
    "# Separating the mean and looking into the data\n",
    "list_mean=['mean radius','mean texture','mean perimeter','mean area',\n",
    "      'mean smoothness', 'mean concavity',\n",
    "      'mean concave points','mean symmetry']\n",
    "mean_data=breast_dataset[list_mean]\n",
    "mean_data.head()\n"
   ]
  },
  {
   "cell_type": "code",
   "execution_count": 38,
   "metadata": {},
   "outputs": [
    {
     "data": {
      "text/plain": [
       "(569, 8)"
      ]
     },
     "execution_count": 38,
     "metadata": {},
     "output_type": "execute_result"
    }
   ],
   "source": [
    "mean_data.shape"
   ]
  },
  {
   "cell_type": "code",
   "execution_count": 37,
   "metadata": {},
   "outputs": [
    {
     "data": {
      "image/png": "[encoded data removed]",
      "text/plain": [
       "<Figure size 432x288 with 2 Axes>"
      ]
     },
     "metadata": {
      "needs_background": "light"
     },
     "output_type": "display_data"
    }
   ],
   "source": [
    "#correlation marix\n",
    "ax = sns.heatmap(mean_data.corr())"
   ]
  },
  {
   "cell_type": "code",
   "execution_count": 36,
   "metadata": {},
   "outputs": [
    {
     "data": {
      "image/png": "[encoded data removed]",
      "text/plain": [
       "<Figure size 576x576 with 2 Axes>"
      ]
     },
     "metadata": {
      "needs_background": "light"
     },
     "output_type": "display_data"
    }
   ],
   "source": [
    "#Correlation matrix and variance-covariance matrix\n",
    "breast_dataset_corr = breast_dataset.iloc[:, 1:11].corr()\n",
    "plt.figure(figsize=(8,8))\n",
    "sns.heatmap(breast_dataset_corr, cmap=\"Blues\", annot=True)\n",
    "plt.show()"
   ]
  },
  {
   "cell_type": "markdown",
   "metadata": {},
   "source": [
    "##### A correlation matrix is a table showing correlation coefficients between variables.\n",
    "The diagonal of the table always contains ones because the correlation between a variable and itself is always 1.\n",
    "\n",
    "The diagonal of the table always contains ones because the correlation between a variable and itself is always 1. As it was expected there are very strong correlations between radius, perimeter and area.\n",
    "\n",
    "Compactness, concavity and and concave points are also highly correlated. These highly correlated features result in redundant information. It is suggested to remove highly correlated features to avoid a predictive bias for the information contained in these features."
   ]
  },
  {
   "cell_type": "code",
   "execution_count": 31,
   "metadata": {},
   "outputs": [
    {
     "name": "stdout",
     "output_type": "stream",
     "text": [
      "                         mean radius  mean texture  mean perimeter  mean area  \\\n",
      "mean radius                 1.000000      0.323782        0.997855   0.987357   \n",
      "mean texture                0.323782      1.000000        0.329533   0.321086   \n",
      "mean perimeter              0.997855      0.329533        1.000000   0.986507   \n",
      "mean area                   0.987357      0.321086        0.986507   1.000000   \n",
      "mean smoothness             0.170581     -0.023389        0.207278   0.177028   \n",
      "mean compactness            0.506124      0.236702        0.556936   0.498502   \n",
      "mean concavity              0.676764      0.302418        0.716136   0.685983   \n",
      "mean concave points         0.822529      0.293464        0.850977   0.823269   \n",
      "mean symmetry               0.147741      0.071401        0.183027   0.151293   \n",
      "mean fractal dimension     -0.311631     -0.076437       -0.261477  -0.283110   \n",
      "radius error                0.679090      0.275869        0.691765   0.732562   \n",
      "texture error              -0.097317      0.386358       -0.086761  -0.066280   \n",
      "perimeter error             0.674172      0.281673        0.693135   0.726628   \n",
      "area error                  0.735864      0.259845        0.744983   0.800086   \n",
      "smoothness error           -0.222600      0.006614       -0.202694  -0.166777   \n",
      "compactness error           0.206000      0.191975        0.250744   0.212583   \n",
      "concavity error             0.194204      0.143293        0.228082   0.207660   \n",
      "concave points error        0.376169      0.163851        0.407217   0.372320   \n",
      "symmetry error             -0.104321      0.009127       -0.081629  -0.072497   \n",
      "fractal dimension error    -0.042641      0.054458       -0.005523  -0.019887   \n",
      "worst radius                0.969539      0.352573        0.969476   0.962746   \n",
      "worst texture               0.297008      0.912045        0.303038   0.287489   \n",
      "worst perimeter             0.965137      0.358040        0.970387   0.959120   \n",
      "worst area                  0.941082      0.343546        0.941550   0.959213   \n",
      "worst smoothness            0.119616      0.077503        0.150549   0.123523   \n",
      "worst compactness           0.413463      0.277830        0.455774   0.390410   \n",
      "worst concavity             0.526911      0.301025        0.563879   0.512606   \n",
      "worst concave points        0.744214      0.295316        0.771241   0.722017   \n",
      "worst symmetry              0.163953      0.105008        0.189115   0.143570   \n",
      "worst fractal dimension     0.007066      0.119205        0.051019   0.003738   \n",
      "label                      -0.730029     -0.415185       -0.742636  -0.708984   \n",
      "\n",
      "                         mean smoothness  mean compactness  mean concavity  \\\n",
      "mean radius                     0.170581          0.506124        0.676764   \n",
      "mean texture                   -0.023389          0.236702        0.302418   \n",
      "mean perimeter                  0.207278          0.556936        0.716136   \n",
      "mean area                       0.177028          0.498502        0.685983   \n",
      "mean smoothness                 1.000000          0.659123        0.521984   \n",
      "mean compactness                0.659123          1.000000        0.883121   \n",
      "mean concavity                  0.521984          0.883121        1.000000   \n",
      "mean concave points             0.553695          0.831135        0.921391   \n",
      "mean symmetry                   0.557775          0.602641        0.500667   \n",
      "mean fractal dimension          0.584792          0.565369        0.336783   \n",
      "radius error                    0.301467          0.497473        0.631925   \n",
      "texture error                   0.068406          0.046205        0.076218   \n",
      "perimeter error                 0.296092          0.548905        0.660391   \n",
      "area error                      0.246552          0.455653        0.617427   \n",
      "smoothness error                0.332375          0.135299        0.098564   \n",
      "compactness error               0.318943          0.738722        0.670279   \n",
      "concavity error                 0.248396          0.570517        0.691270   \n",
      "concave points error            0.380676          0.642262        0.683260   \n",
      "symmetry error                  0.200774          0.229977        0.178009   \n",
      "fractal dimension error         0.283607          0.507318        0.449301   \n",
      "worst radius                    0.213120          0.535315        0.688236   \n",
      "worst texture                   0.036072          0.248133        0.299879   \n",
      "worst perimeter                 0.238853          0.590210        0.729565   \n",
      "worst area                      0.206718          0.509604        0.675987   \n",
      "worst smoothness                0.805324          0.565541        0.448822   \n",
      "worst compactness               0.472468          0.865809        0.754968   \n",
      "worst concavity                 0.434926          0.816275        0.884103   \n",
      "worst concave points            0.503053          0.815573        0.861323   \n",
      "worst symmetry                  0.394309          0.510223        0.409464   \n",
      "worst fractal dimension         0.499316          0.687382        0.514930   \n",
      "label                          -0.358560         -0.596534       -0.696360   \n",
      "\n",
      "                         mean concave points  mean symmetry  \\\n",
      "mean radius                         0.822529       0.147741   \n",
      "mean texture                        0.293464       0.071401   \n",
      "mean perimeter                      0.850977       0.183027   \n",
      "mean area                           0.823269       0.151293   \n",
      "mean smoothness                     0.553695       0.557775   \n",
      "mean compactness                    0.831135       0.602641   \n",
      "mean concavity                      0.921391       0.500667   \n",
      "mean concave points                 1.000000       0.462497   \n",
      "mean symmetry                       0.462497       1.000000   \n",
      "mean fractal dimension              0.166917       0.479921   \n",
      "radius error                        0.698050       0.303379   \n",
      "texture error                       0.021480       0.128053   \n",
      "perimeter error                     0.710650       0.313893   \n",
      "area error                          0.690299       0.223970   \n",
      "smoothness error                    0.027653       0.187321   \n",
      "compactness error                   0.490424       0.421659   \n",
      "concavity error                     0.439167       0.342627   \n",
      "concave points error                0.615634       0.393298   \n",
      "symmetry error                      0.095351       0.449137   \n",
      "fractal dimension error             0.257584       0.331786   \n",
      "worst radius                        0.830318       0.185728   \n",
      "worst texture                       0.292752       0.090651   \n",
      "worst perimeter                     0.855923       0.219169   \n",
      "worst area                          0.809630       0.177193   \n",
      "worst smoothness                    0.452753       0.426675   \n",
      "worst compactness                   0.667454       0.473200   \n",
      "worst concavity                     0.752399       0.433721   \n",
      "worst concave points                0.910155       0.430297   \n",
      "worst symmetry                      0.375744       0.699826   \n",
      "worst fractal dimension             0.368661       0.438413   \n",
      "label                              -0.776614      -0.330499   \n",
      "\n",
      "                         mean fractal dimension  ...  worst texture  \\\n",
      "mean radius                           -0.311631  ...       0.297008   \n",
      "mean texture                          -0.076437  ...       0.912045   \n",
      "mean perimeter                        -0.261477  ...       0.303038   \n",
      "mean area                             -0.283110  ...       0.287489   \n",
      "mean smoothness                        0.584792  ...       0.036072   \n",
      "mean compactness                       0.565369  ...       0.248133   \n",
      "mean concavity                         0.336783  ...       0.299879   \n",
      "mean concave points                    0.166917  ...       0.292752   \n",
      "mean symmetry                          0.479921  ...       0.090651   \n",
      "mean fractal dimension                 1.000000  ...      -0.051269   \n",
      "radius error                           0.000111  ...       0.194799   \n",
      "texture error                          0.164174  ...       0.409003   \n",
      "perimeter error                        0.039830  ...       0.200371   \n",
      "area error                            -0.090170  ...       0.196497   \n",
      "smoothness error                       0.401964  ...      -0.074743   \n",
      "compactness error                      0.559837  ...       0.143003   \n",
      "concavity error                        0.446630  ...       0.100241   \n",
      "concave points error                   0.341198  ...       0.086741   \n",
      "symmetry error                         0.345007  ...      -0.077473   \n",
      "fractal dimension error                0.688132  ...      -0.003195   \n",
      "worst radius                          -0.253691  ...       0.359921   \n",
      "worst texture                         -0.051269  ...       1.000000   \n",
      "worst perimeter                       -0.205151  ...       0.365098   \n",
      "worst area                            -0.231854  ...       0.345842   \n",
      "worst smoothness                       0.504942  ...       0.225429   \n",
      "worst compactness                      0.458798  ...       0.360832   \n",
      "worst concavity                        0.346234  ...       0.368366   \n",
      "worst concave points                   0.175325  ...       0.359755   \n",
      "worst symmetry                         0.334019  ...       0.233027   \n",
      "worst fractal dimension                0.767297  ...       0.219122   \n",
      "label                                  0.012838  ...      -0.456903   \n",
      "\n",
      "                         worst perimeter  worst area  worst smoothness  \\\n",
      "mean radius                     0.965137    0.941082          0.119616   \n",
      "mean texture                    0.358040    0.343546          0.077503   \n",
      "mean perimeter                  0.970387    0.941550          0.150549   \n",
      "mean area                       0.959120    0.959213          0.123523   \n",
      "mean smoothness                 0.238853    0.206718          0.805324   \n",
      "mean compactness                0.590210    0.509604          0.565541   \n",
      "mean concavity                  0.729565    0.675987          0.448822   \n",
      "mean concave points             0.855923    0.809630          0.452753   \n",
      "mean symmetry                   0.219169    0.177193          0.426675   \n",
      "mean fractal dimension         -0.205151   -0.231854          0.504942   \n",
      "radius error                    0.719684    0.751548          0.141919   \n",
      "texture error                  -0.102242   -0.083195         -0.073658   \n",
      "perimeter error                 0.721031    0.730713          0.130054   \n",
      "area error                      0.761213    0.811408          0.125389   \n",
      "smoothness error               -0.217304   -0.182195          0.314457   \n",
      "compactness error               0.260516    0.199371          0.227394   \n",
      "concavity error                 0.226680    0.188353          0.168481   \n",
      "concave points error            0.394999    0.342271          0.215351   \n",
      "symmetry error                 -0.103753   -0.110343         -0.012662   \n",
      "fractal dimension error        -0.001000   -0.022736          0.170568   \n",
      "worst radius                    0.993708    0.984015          0.216574   \n",
      "worst texture                   0.365098    0.345842          0.225429   \n",
      "worst perimeter                 1.000000    0.977578          0.236775   \n",
      "worst area                      0.977578    1.000000          0.209145   \n",
      "worst smoothness                0.236775    0.209145          1.000000   \n",
      "worst compactness               0.529408    0.438296          0.568187   \n",
      "worst concavity                 0.618344    0.543331          0.518523   \n",
      "worst concave points            0.816322    0.747419          0.547691   \n",
      "worst symmetry                  0.269493    0.209146          0.493838   \n",
      "worst fractal dimension         0.138957    0.079647          0.617624   \n",
      "label                          -0.782914   -0.733825         -0.421465   \n",
      "\n",
      "                         worst compactness  worst concavity  \\\n",
      "mean radius                       0.413463         0.526911   \n",
      "mean texture                      0.277830         0.301025   \n",
      "mean perimeter                    0.455774         0.563879   \n",
      "mean area                         0.390410         0.512606   \n",
      "mean smoothness                   0.472468         0.434926   \n",
      "mean compactness                  0.865809         0.816275   \n",
      "mean concavity                    0.754968         0.884103   \n",
      "mean concave points               0.667454         0.752399   \n",
      "mean symmetry                     0.473200         0.433721   \n",
      "mean fractal dimension            0.458798         0.346234   \n",
      "radius error                      0.287103         0.380585   \n",
      "texture error                    -0.092439        -0.068956   \n",
      "perimeter error                   0.341919         0.418899   \n",
      "area error                        0.283257         0.385100   \n",
      "smoothness error                 -0.055558        -0.058298   \n",
      "compactness error                 0.678780         0.639147   \n",
      "concavity error                   0.484858         0.662564   \n",
      "concave points error              0.452888         0.549592   \n",
      "symmetry error                    0.060255         0.037119   \n",
      "fractal dimension error           0.390159         0.379975   \n",
      "worst radius                      0.475820         0.573975   \n",
      "worst texture                     0.360832         0.368366   \n",
      "worst perimeter                   0.529408         0.618344   \n",
      "worst area                        0.438296         0.543331   \n",
      "worst smoothness                  0.568187         0.518523   \n",
      "worst compactness                 1.000000         0.892261   \n",
      "worst concavity                   0.892261         1.000000   \n",
      "worst concave points              0.801080         0.855434   \n",
      "worst symmetry                    0.614441         0.532520   \n",
      "worst fractal dimension           0.810455         0.686511   \n",
      "label                            -0.590998        -0.659610   \n",
      "\n",
      "                         worst concave points  worst symmetry  \\\n",
      "mean radius                          0.744214        0.163953   \n",
      "mean texture                         0.295316        0.105008   \n",
      "mean perimeter                       0.771241        0.189115   \n",
      "mean area                            0.722017        0.143570   \n",
      "mean smoothness                      0.503053        0.394309   \n",
      "mean compactness                     0.815573        0.510223   \n",
      "mean concavity                       0.861323        0.409464   \n",
      "mean concave points                  0.910155        0.375744   \n",
      "mean symmetry                        0.430297        0.699826   \n",
      "mean fractal dimension               0.175325        0.334019   \n",
      "radius error                         0.531062        0.094543   \n",
      "texture error                       -0.119638       -0.128215   \n",
      "perimeter error                      0.554897        0.109930   \n",
      "area error                           0.538166        0.074126   \n",
      "smoothness error                    -0.102007       -0.107342   \n",
      "compactness error                    0.483208        0.277878   \n",
      "concavity error                      0.440472        0.197788   \n",
      "concave points error                 0.602450        0.143116   \n",
      "symmetry error                      -0.030413        0.389402   \n",
      "fractal dimension error              0.215204        0.111094   \n",
      "worst radius                         0.787424        0.243529   \n",
      "worst texture                        0.359755        0.233027   \n",
      "worst perimeter                      0.816322        0.269493   \n",
      "worst area                           0.747419        0.209146   \n",
      "worst smoothness                     0.547691        0.493838   \n",
      "worst compactness                    0.801080        0.614441   \n",
      "worst concavity                      0.855434        0.532520   \n",
      "worst concave points                 1.000000        0.502528   \n",
      "worst symmetry                       0.502528        1.000000   \n",
      "worst fractal dimension              0.511114        0.537848   \n",
      "label                               -0.793566       -0.416294   \n",
      "\n",
      "                         worst fractal dimension     label  \n",
      "mean radius                             0.007066 -0.730029  \n",
      "mean texture                            0.119205 -0.415185  \n",
      "mean perimeter                          0.051019 -0.742636  \n",
      "mean area                               0.003738 -0.708984  \n",
      "mean smoothness                         0.499316 -0.358560  \n",
      "mean compactness                        0.687382 -0.596534  \n",
      "mean concavity                          0.514930 -0.696360  \n",
      "mean concave points                     0.368661 -0.776614  \n",
      "mean symmetry                           0.438413 -0.330499  \n",
      "mean fractal dimension                  0.767297  0.012838  \n",
      "radius error                            0.049559 -0.567134  \n",
      "texture error                          -0.045655  0.008303  \n",
      "perimeter error                         0.085433 -0.556141  \n",
      "area error                              0.017539 -0.548236  \n",
      "smoothness error                        0.101480  0.067016  \n",
      "compactness error                       0.590973 -0.292999  \n",
      "concavity error                         0.439329 -0.253730  \n",
      "concave points error                    0.310655 -0.408042  \n",
      "symmetry error                          0.078079  0.006522  \n",
      "fractal dimension error                 0.591328 -0.077972  \n",
      "worst radius                            0.093492 -0.776454  \n",
      "worst texture                           0.219122 -0.456903  \n",
      "worst perimeter                         0.138957 -0.782914  \n",
      "worst area                              0.079647 -0.733825  \n",
      "worst smoothness                        0.617624 -0.421465  \n",
      "worst compactness                       0.810455 -0.590998  \n",
      "worst concavity                         0.686511 -0.659610  \n",
      "worst concave points                    0.511114 -0.793566  \n",
      "worst symmetry                          0.537848 -0.416294  \n",
      "worst fractal dimension                 1.000000 -0.323872  \n",
      "label                                  -0.323872  1.000000  \n",
      "\n",
      "[31 rows x 31 columns]\n"
     ]
    }
   ],
   "source": [
    "breast_cancer_corr = breast_dataset.corr()\n",
    " \n",
    "print(breast_cancer_corr)"
   ]
  },
  {
   "cell_type": "code",
   "execution_count": null,
   "metadata": {},
   "outputs": [],
   "source": [
    "What is PCA?\n",
    "Basically, PCA is a linear dimensionality reduction technique (algorithm) that transforms a set of correlated variables (p)\n",
    "into smaller k (k<<p) number of uncorrelated variables called principal components "
   ]
  },
  {
   "cell_type": "code",
   "execution_count": null,
   "metadata": {},
   "outputs": [],
   "source": [
    "After running the following code block, the component scores are: \n",
    "The dimension of the new (reduced) data is 569 x 8. This is because we have decided to keep only six components\n",
    "which together explain about 88.76% variability in the original data."
   ]
  },
  {
   "cell_type": "code",
   "execution_count": 33,
   "metadata": {},
   "outputs": [
    {
     "name": "stdout",
     "output_type": "stream",
     "text": [
      "Eigenvalues:\n",
      "[13.94227406  5.73643378  2.85186154  2.00188139  1.66199949]\n",
      "\n",
      "Variances (Percentage):\n",
      "[44.89603531 18.47210378  9.18338543  6.44633272  5.35186638]\n",
      "\n",
      "EigenVectors\n",
      "[[ 0.21639914  0.10359936  0.2245478   0.21796464  0.13764549  0.23150388\n",
      "   0.25122179  0.2552664   0.1330126   0.05797189  0.20090409  0.01547414\n",
      "   0.20563036  0.19798194  0.01123624  0.1619218   0.14578435  0.1762679\n",
      "   0.03832541  0.09508414  0.22558983  0.10501867  0.23364163  0.22196962\n",
      "   0.12530106  0.20447639  0.22307483  0.24628844  0.12066328  0.12672101\n",
      "  -0.21691695]\n",
      " [-0.22654473 -0.05826196 -0.20762951 -0.22322434  0.18876038  0.15847307\n",
      "   0.06786768 -0.02722028  0.19321967  0.36761956 -0.09715581  0.09118826\n",
      "  -0.08069084 -0.14355563  0.20531469  0.23886735  0.203226    0.13704859\n",
      "   0.1860032   0.28433173 -0.21289639 -0.04513536 -0.19259202 -0.21188718\n",
      "   0.17247591  0.14766283  0.10308807 -0.00243309  0.14206245  0.27644912\n",
      "   0.07760994]\n",
      " [ 0.00252701  0.05475075  0.00185392  0.04015101 -0.10283455 -0.06714558\n",
      "   0.01047678 -0.01704757 -0.04031048 -0.0245088   0.27490993  0.36159518\n",
      "   0.27380074  0.22546846  0.30017482  0.15800476  0.18043617  0.22824387\n",
      "   0.28280284  0.21163993 -0.03738019 -0.05298946 -0.03807211 -0.00117565\n",
      "  -0.26167726 -0.23104936 -0.16705081 -0.1627095  -0.27245043 -0.23269183\n",
      "   0.10382596]\n",
      " [-0.050448    0.59953678 -0.05124545 -0.0611155  -0.15048762 -0.04049921\n",
      "  -0.02770997 -0.07025599 -0.05951926 -0.04692758 -0.08959535  0.37723358\n",
      "  -0.08280713 -0.10502744 -0.0203719   0.0200112  -0.00949373 -0.07339708\n",
      "  -0.02375199 -0.01675315 -0.02425572  0.62759744 -0.02354415 -0.03389337\n",
      "  -0.01384352  0.07423195  0.05716004 -0.01756995  0.03497753  0.06530533\n",
      "  -0.09808277]\n",
      " [ 0.04175141 -0.02044758  0.04156574  0.01411296 -0.36717313  0.01698029\n",
      "   0.08961667 -0.04153009 -0.30418839 -0.04561698 -0.15782273 -0.18199538\n",
      "  -0.12318552 -0.12810835 -0.24434397  0.27917071  0.3499483   0.18644596\n",
      "  -0.26007593  0.25676876  0.00155822 -0.06071123  0.01391853 -0.0212177\n",
      "  -0.31986458  0.1337011   0.19726939  0.04915691 -0.23564405  0.10237282\n",
      "   0.08078331]]\n"
     ]
    }
   ],
   "source": [
    "import pandas as pd\n",
    "\n",
    "from sklearn.preprocessing import StandardScaler\n",
    "sc = StandardScaler()\n",
    "breast_dataset_scaled = sc.fit_transform(breast_dataset)\n",
    "\n",
    "from sklearn.decomposition import PCA\n",
    "pca = PCA(n_components=5)\n",
    "pca.fit(breast_dataset_scaled)\n",
    "\n",
    "print(\"Eigenvalues:\")\n",
    "print(pca.explained_variance_)\n",
    "print()\n",
    "print(\"Variances (Percentage):\")\n",
    "print(pca.explained_variance_ratio_ * 100)\n",
    "print()\n",
    "print(\"EigenVectors\")\n",
    "print(pca.components_)"
   ]
  },
  {
   "cell_type": "code",
   "execution_count": 34,
   "metadata": {},
   "outputs": [],
   "source": [
    "transformed_df = pd.DataFrame(pca.transform(breast_dataset_scaled), \n",
    "                              columns=['PC1', 'PC2', 'PC3', \n",
    "                                       'PC4', 'PC5'])"
   ]
  },
  {
   "cell_type": "code",
   "execution_count": 35,
   "metadata": {},
   "outputs": [
    {
     "data": {
      "text/html": [
       "<div>\n",
       "<style scoped>\n",
       "    .dataframe tbody tr th:only-of-type {\n",
       "        vertical-align: middle;\n",
       "    }\n",
       "\n",
       "    .dataframe tbody tr th {\n",
       "        vertical-align: top;\n",
       "    }\n",
       "\n",
       "    .dataframe thead th {\n",
       "        text-align: right;\n",
       "    }\n",
       "</style>\n",
       "<table border=\"1\" class=\"dataframe\">\n",
       "  <thead>\n",
       "    <tr style=\"text-align: right;\">\n",
       "      <th></th>\n",
       "      <th>PC1</th>\n",
       "      <th>PC2</th>\n",
       "      <th>PC3</th>\n",
       "      <th>PC4</th>\n",
       "      <th>PC5</th>\n",
       "    </tr>\n",
       "  </thead>\n",
       "  <tbody>\n",
       "    <tr>\n",
       "      <th>0</th>\n",
       "      <td>9.225770</td>\n",
       "      <td>2.116196</td>\n",
       "      <td>-0.948109</td>\n",
       "      <td>-3.695778</td>\n",
       "      <td>-1.256280</td>\n",
       "    </tr>\n",
       "    <tr>\n",
       "      <th>1</th>\n",
       "      <td>2.655802</td>\n",
       "      <td>-3.784776</td>\n",
       "      <td>-0.502825</td>\n",
       "      <td>-1.123938</td>\n",
       "      <td>0.551107</td>\n",
       "    </tr>\n",
       "    <tr>\n",
       "      <th>2</th>\n",
       "      <td>5.892492</td>\n",
       "      <td>-1.005579</td>\n",
       "      <td>-0.487149</td>\n",
       "      <td>-0.942486</td>\n",
       "      <td>-0.191710</td>\n",
       "    </tr>\n",
       "    <tr>\n",
       "      <th>3</th>\n",
       "      <td>7.135401</td>\n",
       "      <td>10.318716</td>\n",
       "      <td>-3.339501</td>\n",
       "      <td>-0.085947</td>\n",
       "      <td>-2.938456</td>\n",
       "    </tr>\n",
       "    <tr>\n",
       "      <th>4</th>\n",
       "      <td>4.129423</td>\n",
       "      <td>-1.905579</td>\n",
       "      <td>1.454000</td>\n",
       "      <td>-2.880175</td>\n",
       "      <td>0.365289</td>\n",
       "    </tr>\n",
       "    <tr>\n",
       "      <th>...</th>\n",
       "      <td>...</td>\n",
       "      <td>...</td>\n",
       "      <td>...</td>\n",
       "      <td>...</td>\n",
       "      <td>...</td>\n",
       "    </tr>\n",
       "    <tr>\n",
       "      <th>564</th>\n",
       "      <td>6.593983</td>\n",
       "      <td>-3.454947</td>\n",
       "      <td>2.570876</td>\n",
       "      <td>-1.152905</td>\n",
       "      <td>-0.129840</td>\n",
       "    </tr>\n",
       "    <tr>\n",
       "      <th>565</th>\n",
       "      <td>4.024833</td>\n",
       "      <td>-3.556006</td>\n",
       "      <td>2.047373</td>\n",
       "      <td>2.568539</td>\n",
       "      <td>-0.434089</td>\n",
       "    </tr>\n",
       "    <tr>\n",
       "      <th>566</th>\n",
       "      <td>1.530077</td>\n",
       "      <td>-1.958871</td>\n",
       "      <td>0.465718</td>\n",
       "      <td>2.104481</td>\n",
       "      <td>1.820113</td>\n",
       "    </tr>\n",
       "    <tr>\n",
       "      <th>567</th>\n",
       "      <td>10.405008</td>\n",
       "      <td>1.849078</td>\n",
       "      <td>-1.779328</td>\n",
       "      <td>2.163464</td>\n",
       "      <td>0.201609</td>\n",
       "    </tr>\n",
       "    <tr>\n",
       "      <th>568</th>\n",
       "      <td>-5.504862</td>\n",
       "      <td>-0.766348</td>\n",
       "      <td>1.368623</td>\n",
       "      <td>2.386050</td>\n",
       "      <td>-0.140754</td>\n",
       "    </tr>\n",
       "  </tbody>\n",
       "</table>\n",
       "<p>569 rows × 5 columns</p>\n",
       "</div>"
      ],
      "text/plain": [
       "           PC1        PC2       PC3       PC4       PC5\n",
       "0     9.225770   2.116196 -0.948109 -3.695778 -1.256280\n",
       "1     2.655802  -3.784776 -0.502825 -1.123938  0.551107\n",
       "2     5.892492  -1.005579 -0.487149 -0.942486 -0.191710\n",
       "3     7.135401  10.318716 -3.339501 -0.085947 -2.938456\n",
       "4     4.129423  -1.905579  1.454000 -2.880175  0.365289\n",
       "..         ...        ...       ...       ...       ...\n",
       "564   6.593983  -3.454947  2.570876 -1.152905 -0.129840\n",
       "565   4.024833  -3.556006  2.047373  2.568539 -0.434089\n",
       "566   1.530077  -1.958871  0.465718  2.104481  1.820113\n",
       "567  10.405008   1.849078 -1.779328  2.163464  0.201609\n",
       "568  -5.504862  -0.766348  1.368623  2.386050 -0.140754\n",
       "\n",
       "[569 rows x 5 columns]"
      ]
     },
     "execution_count": 35,
     "metadata": {},
     "output_type": "execute_result"
    }
   ],
   "source": [
    "transformed_df"
   ]
  },
  {
   "cell_type": "code",
   "execution_count": null,
   "metadata": {},
   "outputs": [],
   "source": [
    "The following image shows the first 5 observations in the new (reduced) dataset.\n",
    "PC1 stands for Principal Component 1, PC2 stands for Principal Component 2 and so on.\n",
    "The shape of the dataset is 569 x 5.\n",
    "Part of the breast cancer dataset after doing PCA (88.76% variability retained)"
   ]
  },
  {
   "cell_type": "markdown",
   "metadata": {},
   "source": [
    "#### Conclusion"
   ]
  },
  {
   "cell_type": "code",
   "execution_count": null,
   "metadata": {},
   "outputs": [],
   "source": [
    "Both R and Python have excellent capability of performing PCA. R has a nice visualization library (factoextra) for PCA. \n",
    "It is very easy to use. The outputs are nicely formatted and easy to read. R’s princomp() function is also very easy to use. It provides you with two options to select the correlation or variance-covariance matrix to perform PCA. So, you can easily perform PCA with just a few lines of R code. Python also provides you with PCA() function to perform PCA. You can write clear and easy-to-read syntax with Python. Its syntax is very consistent.\n",
    "I generally prefer using Python for data science and machine learning tasks. But for PCA,\n",
    "prefer using R because of the following reasons.\n",
    "R’s outputs are nicely formated.\n",
    "It is easy to draw high-level plots with a single line of R code.\n",
    "R’s functions provide more customization options."
   ]
  },
  {
   "cell_type": "code",
   "execution_count": null,
   "metadata": {},
   "outputs": [],
   "source": [
    "#just try second way"
   ]
  },
  {
   "cell_type": "code",
   "execution_count": 36,
   "metadata": {},
   "outputs": [],
   "source": [
    "import pandas as pd\n",
    "from sklearn.decomposition import PCA\n",
    "from sklearn import preprocessing\n",
    "from sklearn.datasets import load_breast_cancer\n",
    "import matplotlib.pyplot as plt\n",
    "import seaborn as sns\n",
    "from sklearn.preprocessing import StandardScaler\n",
    "from sklearn.decomposition import PCA"
   ]
  },
  {
   "cell_type": "code",
   "execution_count": 37,
   "metadata": {},
   "outputs": [
    {
     "name": "stdout",
     "output_type": "stream",
     "text": [
      "Explained variation per principal component: [0.44272026 0.18971182]\n"
     ]
    },
    {
     "data": {
      "text/html": [
       "<div>\n",
       "<style scoped>\n",
       "    .dataframe tbody tr th:only-of-type {\n",
       "        vertical-align: middle;\n",
       "    }\n",
       "\n",
       "    .dataframe tbody tr th {\n",
       "        vertical-align: top;\n",
       "    }\n",
       "\n",
       "    .dataframe thead th {\n",
       "        text-align: right;\n",
       "    }\n",
       "</style>\n",
       "<table border=\"1\" class=\"dataframe\">\n",
       "  <thead>\n",
       "    <tr style=\"text-align: right;\">\n",
       "      <th></th>\n",
       "      <th>principal component 1</th>\n",
       "      <th>principal component 2</th>\n",
       "    </tr>\n",
       "  </thead>\n",
       "  <tbody>\n",
       "    <tr>\n",
       "      <th>564</th>\n",
       "      <td>6.439315</td>\n",
       "      <td>-3.576817</td>\n",
       "    </tr>\n",
       "    <tr>\n",
       "      <th>565</th>\n",
       "      <td>3.793382</td>\n",
       "      <td>-3.584048</td>\n",
       "    </tr>\n",
       "    <tr>\n",
       "      <th>566</th>\n",
       "      <td>1.256179</td>\n",
       "      <td>-1.902297</td>\n",
       "    </tr>\n",
       "    <tr>\n",
       "      <th>567</th>\n",
       "      <td>10.374794</td>\n",
       "      <td>1.672010</td>\n",
       "    </tr>\n",
       "    <tr>\n",
       "      <th>568</th>\n",
       "      <td>-5.475243</td>\n",
       "      <td>-0.670637</td>\n",
       "    </tr>\n",
       "  </tbody>\n",
       "</table>\n",
       "</div>"
      ],
      "text/plain": [
       "     principal component 1  principal component 2\n",
       "564               6.439315              -3.576817\n",
       "565               3.793382              -3.584048\n",
       "566               1.256179              -1.902297\n",
       "567              10.374794               1.672010\n",
       "568              -5.475243              -0.670637"
      ]
     },
     "execution_count": 37,
     "metadata": {},
     "output_type": "execute_result"
    },
    {
     "data": {
      "text/plain": [
       "<Figure size 432x288 with 0 Axes>"
      ]
     },
     "metadata": {},
     "output_type": "display_data"
    },
    {
     "data": {
      "image/png": "[encoded data removed]",
      "text/plain": [
       "<Figure size 720x720 with 1 Axes>"
      ]
     },
     "metadata": {
      "needs_background": "light"
     },
     "output_type": "display_data"
    }
   ],
   "source": [
    "breast = load_breast_cancer()\n",
    "breast_data = breast.data\n",
    "breast_data.shape\n",
    "breast_labels = breast.target\n",
    "breast_labels.shape\n",
    "labels = np.reshape(breast_labels,(569,1))\n",
    "final_breast_data = np.concatenate([breast_data,labels],axis=1)\n",
    "final_breast_data.shape\n",
    "breast_dataset = pd.DataFrame(final_breast_data)\n",
    "features = breast.feature_names\n",
    "features\n",
    "features_labels = np.append(features,'label')\n",
    "breast_dataset.columns = features_labels\n",
    "breast_dataset.head()\n",
    "breast_dataset['label'].replace(0, 'Benign',inplace=True)\n",
    "breast_dataset['label'].replace(1, 'Malignant',inplace=True)\n",
    "breast_dataset.tail()\n",
    "\n",
    "x = breast_dataset.loc[:, features].values\n",
    "x = StandardScaler().fit_transform(x) # normalizing the features\n",
    "x.shape\n",
    "np.mean(x),np.std(x)\n",
    "feat_cols = ['feature'+str(i) for i in range(x.shape[1])]\n",
    "normalised_breast = pd.DataFrame(x,columns=feat_cols)\n",
    "normalised_breast.tail\n",
    "pca_breast = PCA(n_components=2)\n",
    "principalComponents_breast = pca_breast.fit_transform(x)\n",
    "principal_breast_Df = pd.DataFrame(data = principalComponents_breast\n",
    "             , columns = ['principal component 1', 'principal component 2'])\n",
    "principal_breast_Df.tail()\n",
    "print('Explained variation per principal component: {}'.format(pca_breast.explained_variance_ratio_))\n",
    "\n",
    "\n",
    "plt.figure()\n",
    "plt.figure(figsize=(10,10))\n",
    "plt.xticks(fontsize=12)\n",
    "plt.yticks(fontsize=14)\n",
    "plt.xlabel('Principal Component - 1',fontsize=20)\n",
    "plt.ylabel('Principal Component - 2',fontsize=20)\n",
    "plt.title(\"Principal Component Analysis of Breast Cancer Dataset\",fontsize=20)\n",
    "targets = ['Benign', 'Malignant']\n",
    "colors = ['r', 'b']\n",
    "for target, color in zip(targets,colors):\n",
    "    indicesToKeep = breast_dataset['label'] == target\n",
    "    plt.scatter(principal_breast_Df.loc[indicesToKeep, 'principal component 1']\n",
    "               , principal_breast_Df.loc[indicesToKeep, 'principal component 2'], c = color, s = 50)\n",
    "\n",
    "plt.legend(targets,prop={'size': 15})\n",
    "\n",
    "\n",
    "principal_breast_Df.tail()"
   ]
  }
 ],
 "metadata": {
  "kernelspec": {
   "display_name": "Python 3",
   "language": "python",
   "name": "python3"
  },
  "language_info": {
   "codemirror_mode": {
    "name": "ipython",
    "version": 3
   },
   "file_extension": ".py",
   "mimetype": "text/x-python",
   "name": "python",
   "nbconvert_exporter": "python",
   "pygments_lexer": "ipython3",
   "version": "3.8.5"
  }
 },
 "nbformat": 4,
 "nbformat_minor": 4
}
